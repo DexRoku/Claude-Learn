{
 "cells": [
  {
   "cell_type": "code",
   "execution_count": 34,
   "id": "144475f6",
   "metadata": {},
   "outputs": [],
   "source": [
    "# Load env variables and create client\n",
    "from dotenv import load_dotenv\n",
    "from anthropic import Anthropic\n",
    "\n",
    "load_dotenv()\n",
    "\n",
    "client = Anthropic()\n",
    "model = \"claude-3-haiku-20240307\""
   ]
  },
  {
   "cell_type": "code",
   "execution_count": 35,
   "id": "3c70136b",
   "metadata": {},
   "outputs": [],
   "source": [
    "# Helper functions\n",
    "from anthropic.types import Message\n",
    "\n",
    "def add_user_message(messages, message):\n",
    "    user_message = {\"role\": \"user\", \"content\": message.content if isinstance(message, Message) else message}\n",
    "    messages.append(user_message)\n",
    "\n",
    "\n",
    "def add_assistant_message(messages, message):\n",
    "    assistant_message = {\"role\": \"assistant\", \"content\": message.content if isinstance(message, Message) else message}\n",
    "    messages.append(assistant_message)\n",
    "\n",
    "\n",
    "def chat(messages, system=None, temperature=1.0, stop_sequences=[], tools=None):\n",
    "    params = {\n",
    "        \"model\": model,\n",
    "        \"max_tokens\": 1000,\n",
    "        \"messages\": messages,\n",
    "        \"temperature\": temperature,\n",
    "        \"stop_sequences\": stop_sequences,\n",
    "    }\n",
    "\n",
    "    if system:\n",
    "        params[\"system\"] = system\n",
    "\n",
    "    if tools:\n",
    "        params[\"tools\"] = tools\n",
    "\n",
    "    message = client.messages.create(**params)\n",
    "    return message\n",
    "\n",
    "def text_from_message(message):\n",
    "    return \"\\n\".join(\n",
    "        [block.text for block in message.content if block.type == \"text\"]\n",
    "    )    "
   ]
  },
  {
   "cell_type": "code",
   "execution_count": null,
   "id": "ddc248e8",
   "metadata": {},
   "outputs": [],
   "source": [
    "## Tool definition\n",
    "\n",
    "from anthropic.types import ToolParam\n",
    "from datetime import datetime\n",
    "def get_current_datetime(datetime_format=\"%Y-%m-%d %H:%M:%S\"):\n",
    "    if not datetime_format:\n",
    "        raise ValueError(\"date_format cannot be empty\")\n",
    "    now = datetime.now()\n",
    "    return now.strftime(datetime_format)\n",
    "\n",
    "get_current_datetime_schema = ToolParam(\n",
    "{\n",
    "  \"name\": \"get_current_datetime\",\n",
    "  \"description\": \"Get the current date and time as a formatted string\",\n",
    "  \"input_schema\": {\n",
    "    \"type\": \"object\",\n",
    "    \"properties\": {\n",
    "      \"datetime_format\": {\n",
    "        \"type\": \"string\",\n",
    "        \"description\": \"A string specifying the format of the returned datetime. Uses Python's strftime format codes.\",\n",
    "        \"default\": \"%Y-%m-%d %H:%M:%S\"\n",
    "      }\n",
    "    },\n",
    "    \"required\": []\n",
    "  }\n",
    "}\n",
    ")"
   ]
  },
  {
   "cell_type": "code",
   "execution_count": null,
   "id": "3d29b48e",
   "metadata": {},
   "outputs": [
    {
     "data": {
      "text/plain": [
       "[{'role': 'user',\n",
       "  'content': \"What is the exact time, formatted as 'HH:MM:SS'\"},\n",
       " {'role': 'assistant',\n",
       "  'content': [ToolUseBlock(id='toolu_01LPVrvJZBjDmjY69qmSqhVW', input={'datetime_format': '%H:%M:%S'}, name='get_current_datetime', type='tool_use')]}]"
      ]
     },
     "execution_count": 37,
     "metadata": {},
     "output_type": "execute_result"
    }
   ],
   "source": [
    "## Example usage\n",
    "\n",
    "messages = []\n",
    "\n",
    "messages.append(\n",
    "    {\n",
    "        \"role\": \"user\",\n",
    "        \"content\": \"What is the exact time, formatted as 'HH:MM:SS'\",\n",
    "    }\n",
    ")\n",
    "\n",
    "response = client.messages.create(\n",
    "    model=model,\n",
    "    messages=messages,\n",
    "    max_tokens=1000,\n",
    "    tools=[get_current_datetime_schema],\n",
    ")\n",
    "\n",
    "messages.append({\"role\": \"assistant\", \"content\": response.content})\n",
    "messages"
   ]
  },
  {
   "cell_type": "code",
   "execution_count": 44,
   "id": "768199ec",
   "metadata": {},
   "outputs": [],
   "source": [
    "# Example of running the tool\n",
    "\n",
    "result = get_current_datetime(**response.content[0].input)"
   ]
  },
  {
   "cell_type": "code",
   "execution_count": null,
   "id": "3c73c762",
   "metadata": {},
   "outputs": [],
   "source": []
  },
  {
   "cell_type": "code",
   "execution_count": null,
   "id": "4149521e",
   "metadata": {},
   "outputs": [
    {
     "data": {
      "text/plain": [
       "[{'role': 'user',\n",
       "  'content': \"What is the exact time, formatted as 'HH:MM:SS'\"},\n",
       " {'role': 'assistant',\n",
       "  'content': [ToolUseBlock(id='toolu_01LPVrvJZBjDmjY69qmSqhVW', input={'datetime_format': '%H:%M:%S'}, name='get_current_datetime', type='tool_use')]},\n",
       " {'role': 'user',\n",
       "  'content': [{'type': 'tool_result',\n",
       "    'tool_use_id': 'toolu_01LPVrvJZBjDmjY69qmSqhVW',\n",
       "    'content': '19:05:22',\n",
       "    'is_error': False}]}]"
      ]
     },
     "execution_count": 39,
     "metadata": {},
     "output_type": "execute_result"
    }
   ],
   "source": [
    "## Append the tool result to the conversation\n",
    "\n",
    "messages.append({\n",
    "    \"role\": \"user\",\n",
    "    \"content\":[\n",
    "        {\n",
    "            \"type\": \"tool_result\",\n",
    "            \"tool_use_id\": response.content[0].id,\n",
    "            \"content\": result,\n",
    "            \"is_error\": False\n",
    "        }\n",
    "    ]\n",
    "})\n",
    "messages"
   ]
  },
  {
   "cell_type": "code",
   "execution_count": null,
   "id": "6abb96d8",
   "metadata": {},
   "outputs": [],
   "source": []
  },
  {
   "cell_type": "code",
   "execution_count": null,
   "id": "1a22954b",
   "metadata": {},
   "outputs": [
    {
     "data": {
      "text/plain": [
       "Message(id='msg_014YRiSRhVZPia9cW5BtU7wX', content=[TextBlock(citations=None, text=\"The current time, formatted as 'HH:MM:SS', is 19:05:22.\", type='text')], model='claude-3-haiku-20240307', role='assistant', stop_reason='end_turn', stop_sequence=None, type='message', usage=Usage(cache_creation_input_tokens=0, cache_read_input_tokens=0, input_tokens=466, output_tokens=27, server_tool_use=None, service_tier='standard', cache_creation={'ephemeral_5m_input_tokens': 0, 'ephemeral_1h_input_tokens': 0}))"
      ]
     },
     "execution_count": 40,
     "metadata": {},
     "output_type": "execute_result"
    }
   ],
   "source": [
    "# Final response from the model after tool execution\n",
    "client.messages.create(\n",
    "    model=model,\n",
    "    max_tokens=1000,\n",
    "    messages=messages,\n",
    "    tools=[get_current_datetime_schema]\n",
    ")"
   ]
  },
  {
   "cell_type": "markdown",
   "id": "36f39d7a",
   "metadata": {},
   "source": []
  },
  {
   "cell_type": "code",
   "execution_count": null,
   "id": "5a3711e7",
   "metadata": {},
   "outputs": [],
   "source": [
    "## Tool execution\n",
    "import json\n",
    "\n",
    "def run_tool(tool_name, tool_input):\n",
    "    if tool_name == \"get_current_datetime\":\n",
    "        return get_current_datetime(**tool_input)\n",
    "    else:\n",
    "        raise ValueError(f\"Unknown tool: {tool_name}\")\n",
    "\n",
    "def run_tools(message):\n",
    "    tool_requests = [block for block in message.content if block.type == \"tool_use\"]\n",
    "    tool_result_blocks = []\n",
    "\n",
    "    for tool_request in tool_requests:\n",
    "        if tool_request.name == \"get_current_datetime\":\n",
    "            try:\n",
    "                tool_output = get_current_datetime(**tool_request.input)\n",
    "                tool_result_block = {\n",
    "                    \"type\": \"tool_result\",\n",
    "                    \"tool_use_id\": tool_request.id,\n",
    "                    \"content\": json.dumps(tool_output),\n",
    "                \"is_error\": False\n",
    "            }\n",
    "            except Exception as e:\n",
    "                tool_result_block = {\n",
    "                    \"type\": \"tool_result\",\n",
    "                    \"tool_use_id\": tool_request.id,\n",
    "                    \"content\": str(e),\n",
    "                    \"is_error\": True\n",
    "                }\n",
    "\n",
    "            tool_result_blocks.append(tool_result_block)"
   ]
  },
  {
   "cell_type": "code",
   "execution_count": null,
   "id": "511c7863",
   "metadata": {},
   "outputs": [],
   "source": [
    "## Run a conversation with tool use\n",
    "\n",
    "def run_conversation(messages):\n",
    "    while True:\n",
    "        response = chat(messages, tools=[get_current_datetime_schema])\n",
    "        add_assistant_message(messages, response)\n",
    "        print(text_from_message(response))\n",
    "\n",
    "        if response.stop_reason != \"tool_use\":\n",
    "            break\n",
    "\n",
    "        run_tools(response)"
   ]
  }
 ],
 "metadata": {
  "kernelspec": {
   "display_name": "dev",
   "language": "python",
   "name": "python3"
  },
  "language_info": {
   "codemirror_mode": {
    "name": "ipython",
    "version": 3
   },
   "file_extension": ".py",
   "mimetype": "text/x-python",
   "name": "python",
   "nbconvert_exporter": "python",
   "pygments_lexer": "ipython3",
   "version": "3.13.5"
  }
 },
 "nbformat": 4,
 "nbformat_minor": 5
}
